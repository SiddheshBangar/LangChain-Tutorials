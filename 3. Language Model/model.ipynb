{
 "cells": [
  {
   "attachments": {},
   "cell_type": "markdown",
   "metadata": {},
   "source": [
    "# Language Models\n",
    "\n",
    "LangChain is a framework for building applications using Large Language Models (LLMs). LLMs are a type of machine learning model that can understand and generate natural language. LangChain provides a number of features that make it easy to integrate LLMs into applications, including:\n",
    "\n",
    "* A simple API for interacting with LLMs\n",
    "* A variety of pre-trained LLMs available\n",
    "* The ability to train custom LLMs\n",
    "\n",
    "LangChain supports two types of language models:\n",
    "\n",
    "* **LLMs:** These are the most general-purpose type of language model. They can be used for a variety of tasks, such as generating text, translating languages, and answering questions.\n",
    "* **Chat models:** These are a specialized type of LLM that are designed for chatbots. They are able to hold conversations with users and answer their questions in a natural way.\n",
    "\n",
    "To use a language model in LangChain, you first need to create a `Model` object. This object represents the language model and provides methods for interacting with it. Once you have created a `Model` object, you can use it to generate text, translate languages, and answer questions."
   ]
  },
  {
   "cell_type": "code",
   "execution_count": 1,
   "metadata": {},
   "outputs": [],
   "source": [
    "openai_api_key = \"....\""
   ]
  },
  {
   "attachments": {},
   "cell_type": "markdown",
   "metadata": {},
   "source": [
    "## Importing the OpenAI LLM\n",
    "\n",
    "The first line of code imports the `OpenAI` class from the `langchain.llms` module. This class provides a way to interact with the OpenAI API and use their LLMs.\n",
    "\n",
    "The `OpenAI` class takes two arguments:\n",
    "\n",
    "* `model_name`: The name of the LLM to use.\n",
    "* `openai_api_key`: Your OpenAI API key.\n",
    "\n",
    "In this example, the `model_name` is set to `text-ada-001`. This is the name of one of OpenAI's LLMs. The `openai_api_key` is a secret key that you need to use to access the OpenAI API.\n",
    "\n",
    "Once you have imported the `OpenAI` class, you can create a new instance of the class by passing in the model name and API key. In this example, the code creates a new instance of the `OpenAI` class and assigns it to the variable `llm`.\n",
    "\n"
   ]
  },
  {
   "cell_type": "code",
   "execution_count": null,
   "metadata": {},
   "outputs": [],
   "source": [
    "from langchain.llms import OpenAI\n",
    "\n",
    "llm = OpenAI(model_name = 'text-ada-001', openai_api_key=openai_api_key)"
   ]
  },
  {
   "cell_type": "code",
   "execution_count": null,
   "metadata": {},
   "outputs": [],
   "source": [
    "llm(\"Which month comes after March?\")\n",
    "\n",
    "'\\n\\n\\April.'"
   ]
  },
  {
   "attachments": {},
   "cell_type": "markdown",
   "metadata": {},
   "source": [
    "## Importing the ChatOpenAI Class\n",
    "\n",
    "The first line of code imports the `ChatOpenAI` class from the `langchain.chat_models` module. This class provides a way to use the OpenAI LLMs for chatbots.\n",
    "\n",
    "The `ChatOpenAI` class takes two arguments:\n",
    "\n",
    "* `temperature`: A float value that controls the creativity of the responses. A higher temperature will result in more creative responses, while a lower temperature will result in more conservative responses.\n",
    "* `openai_api_key`: Your OpenAI API key.\n",
    "\n",
    "In this example, the `temperature` is set to 0.7. This means that the responses will be creative, but not too creative. The `openai_api_key` is a secret key that you need to use to access the OpenAI API.\n",
    "\n",
    "Once you have imported the `ChatOpenAI` class, you can create a new instance of the class by passing in the temperature and API key. In this example, the code creates a new instance of the `ChatOpenAI` class and assigns it to the variable `chat`.\n"
   ]
  },
  {
   "cell_type": "code",
   "execution_count": null,
   "metadata": {},
   "outputs": [],
   "source": [
    "from langchain.chat_models import ChatOpenAI\n",
    "from langchain.schema import HumanMessage, SystemMessage, AIMessage\n",
    "\n",
    "chat = ChatOpenAI(temperature=0.7, openai_api_key=openai_api_key)"
   ]
  },
  {
   "cell_type": "code",
   "execution_count": null,
   "metadata": {},
   "outputs": [],
   "source": [
    "chat(\n",
    "    [\n",
    "        SystemMessage(content=\"You are an intelligent AI Bot, who is good in geography\")\n",
    "        HumanMessage(content=\"Can yo help me in finding the co-ordinates of the Miami City?\")\n",
    "    ]\n",
    ")"
   ]
  },
  {
   "attachments": {},
   "cell_type": "markdown",
   "metadata": {},
   "source": [
    "## Importing the OpenAIEmbeddings Class\n",
    "\n",
    "The first line of code imports the `OpenAIEmbeddings` class from the `langchain.embeddings` module. This class provides a way to get embeddings from the OpenAI API.\n",
    "\n",
    "The `OpenAIEmbeddings` class takes one argument:\n",
    "\n",
    "* `openai_api_key`: Your OpenAI API key.\n",
    "\n",
    "In this example, the `openai_api_key` is passed in as a keyword argument. The `openai_api_key` is a secret key that you need to use to access the OpenAI API.\n",
    "\n",
    "Once you have imported the `OpenAIEmbeddings` class, you can create a new instance of the class by passing in the API key. In this example, the code creates a new instance of the `OpenAIEmbeddings` class and assigns it to the variable `embeddings`.\n",
    "\n",
    "The `OpenAIEmbeddings` class can be used to get embeddings for a given text."
   ]
  },
  {
   "cell_type": "code",
   "execution_count": null,
   "metadata": {},
   "outputs": [],
   "source": [
    "from langchain.embeddings import OpenAIEmbeddings\n",
    "\n",
    "embeddings = OpenAIEmbeddings(openai_api_key=openai_api_key)"
   ]
  },
  {
   "cell_type": "code",
   "execution_count": 2,
   "metadata": {},
   "outputs": [],
   "source": [
    "text = \"It's time to play football\""
   ]
  },
  {
   "cell_type": "code",
   "execution_count": null,
   "metadata": {},
   "outputs": [],
   "source": [
    "text_embedding = embeddings.embed_query(text)\n",
    "print(f'Your embedding is length {len(text_embedding)}')\n",
    "print(f'Here is a sample: {text_embedding[:5]}...')"
   ]
  }
 ],
 "metadata": {
  "kernelspec": {
   "display_name": "Python 3",
   "language": "python",
   "name": "python3"
  },
  "language_info": {
   "codemirror_mode": {
    "name": "ipython",
    "version": 3
   },
   "file_extension": ".py",
   "mimetype": "text/x-python",
   "name": "python",
   "nbconvert_exporter": "python",
   "pygments_lexer": "ipython3",
   "version": "3.11.2"
  },
  "orig_nbformat": 4
 },
 "nbformat": 4,
 "nbformat_minor": 2
}
