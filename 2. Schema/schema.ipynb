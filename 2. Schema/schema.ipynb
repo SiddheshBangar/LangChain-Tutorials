{
 "cells": [
  {
   "attachments": {},
   "cell_type": "markdown",
   "metadata": {},
   "source": [
    "# Schema \n",
    "\n",
    "A schema is a definition of the structure of a data object. It is used to validate the input and output of tools and chains. Schemas are defined in JSON format and can be used to validate data in both Python and JavaScript."
   ]
  },
  {
   "cell_type": "code",
   "execution_count": 6,
   "metadata": {},
   "outputs": [],
   "source": [
    "#Add your Open AI API Key here 👇\n",
    "openai_api_key = \"...\""
   ]
  },
  {
   "attachments": {},
   "cell_type": "markdown",
   "metadata": {},
   "source": [
    "In Schema you have to deal with such text based scripts only"
   ]
  },
  {
   "cell_type": "code",
   "execution_count": 2,
   "metadata": {},
   "outputs": [],
   "source": [
    "my_text = \"Which month comes after January?\""
   ]
  },
  {
   "attachments": {},
   "cell_type": "markdown",
   "metadata": {},
   "source": [
    "## Chat Messages Index\n",
    "\n",
    "Like text, but it has a specification utterance type i.e. System message, Human Messgae or AI Message\n",
    "\n",
    "- System: Helpful background context that tell the AI what to do\n",
    "- Human: Messages that are intended to represent the user\n",
    "- AI: Messages that show what the AI responded with"
   ]
  },
  {
   "cell_type": "code",
   "execution_count": null,
   "metadata": {},
   "outputs": [],
   "source": [
    "from langchain.chat_models import ChatOpenAI\n",
    "from langchain.schema import HumanMessage, SystemMessage, AIMessage\n",
    "\n",
    "chat = ChatOpenAI(temperature=0.8, openai_api_key=openai_api_key)"
   ]
  },
  {
   "cell_type": "code",
   "execution_count": null,
   "metadata": {},
   "outputs": [],
   "source": [
    "chat(\n",
    "    [\n",
    "        SystemMessage(content=\"You are a funny AI Chatbot who give response sarcastically\")\n",
    "        HumanMessage(content=\"I want to improve my protein consumption what should I eat?\")\n",
    "    ]\n",
    ")"
   ]
  },
  {
   "attachments": {},
   "cell_type": "markdown",
   "metadata": {},
   "source": [
    "You can also pass more chat history with responses from AI"
   ]
  },
  {
   "cell_type": "code",
   "execution_count": null,
   "metadata": {},
   "outputs": [],
   "source": [
    "chat(\n",
    "    {\n",
    "        SystemMessage(content=\"You are a funny AI Chatbot who give response sarcastically\")\n",
    "        HumanMessage(content=\"I want to go to USA for a vacation suggest some places in USA?\")\n",
    "        AIMessage(content:\"Why to visit when you can just enjoy it through a travel video of USA\")\n",
    "        HumanMessage(content=\"No, I want to go there physically and enjoy the place\")    \n",
    "    }\n",
    ")"
   ]
  },
  {
   "cell_type": "code",
   "execution_count": 4,
   "metadata": {},
   "outputs": [],
   "source": [
    "from langchain.schema import Document"
   ]
  },
  {
   "attachments": {},
   "cell_type": "markdown",
   "metadata": {},
   "source": [
    "A document in the schema in LangChain is a piece of unstructured data. It consists of two parts:\n",
    "\n",
    "- Page content: This is the main body of the document, which can be any type of text.\n",
    "- Metadata: This is optional information about the document, such as the source of the document, the author of the document, or the date the document was created.\n",
    "\n",
    "The following is an example of a document schema in LangChain:"
   ]
  },
  {
   "cell_type": "code",
   "execution_count": 5,
   "metadata": {},
   "outputs": [
    {
     "data": {
      "text/plain": [
       "Document(page_content='This is the list of all the places I have visited till now', metadata={'document_id': 1212, 'document_source': 'Places Visited', 'document_create_time': 1990013020})"
      ]
     },
     "execution_count": 5,
     "metadata": {},
     "output_type": "execute_result"
    }
   ],
   "source": [
    "Document(page_content=\"This is the list of all the places I have visited till now\",\n",
    "         metadata={\n",
    "             \"document_id\": 1212,\n",
    "             \"document_source\": \"Places Visited\",\n",
    "             \"document_create_time\": 1990013020 \n",
    "         })"
   ]
  }
 ],
 "metadata": {
  "kernelspec": {
   "display_name": "Python 3",
   "language": "python",
   "name": "python3"
  },
  "language_info": {
   "codemirror_mode": {
    "name": "ipython",
    "version": 3
   },
   "file_extension": ".py",
   "mimetype": "text/x-python",
   "name": "python",
   "nbconvert_exporter": "python",
   "pygments_lexer": "ipython3",
   "version": "3.11.2"
  },
  "orig_nbformat": 4
 },
 "nbformat": 4,
 "nbformat_minor": 2
}
